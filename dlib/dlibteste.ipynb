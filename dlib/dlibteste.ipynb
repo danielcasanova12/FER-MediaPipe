{
 "cells": [
  {
   "cell_type": "code",
   "execution_count": null,
   "metadata": {},
   "outputs": [],
   "source": [
    "%pip install dlib\n",
    "%pip install opencv-python\n"
   ]
  },
  {
   "cell_type": "code",
   "execution_count": null,
   "metadata": {},
   "outputs": [],
   "source": []
  },
  {
   "cell_type": "code",
   "execution_count": null,
   "metadata": {},
   "outputs": [],
   "source": []
  },
  {
   "cell_type": "code",
   "execution_count": 2,
   "metadata": {},
   "outputs": [],
   "source": [
    "import dlib\n",
    "import cv2\n",
    "import os\n",
    "import numpy as np\n",
    "\n",
    "# Caminho para o preditor\n",
    "predictor_path = \"shape_predictor_68_face_landmarks.dat\"\n",
    "if not os.path.exists(predictor_path):\n",
    "    print(f\"Erro: Arquivo '{predictor_path}' não encontrado.\")\n",
    "    exit()\n",
    "\n",
    "# Inicializando o detector de rosto e o preditor de landmarks\n",
    "detector = dlib.get_frontal_face_detector()\n",
    "predictor = dlib.shape_predictor(predictor_path)\n",
    "\n",
    "# Caminho para a imagem\n",
    "image_path = \"../data/Fer-2013/processed/imagens_processed/teste/Angry/0_108.jpg\"\n",
    "if not os.path.exists(image_path):\n",
    "    print(f\"Erro: Imagem '{image_path}' não encontrada.\")\n",
    "    exit()\n",
    "\n",
    "# Leitura da imagem\n",
    "image = cv2.imread(image_path)\n",
    "gray = cv2.cvtColor(image, cv2.COLOR_BGR2GRAY)\n",
    "\n",
    "# Detectando rostos\n",
    "faces = detector(gray)\n",
    "\n",
    "# Verificando se algum rosto foi detectado\n",
    "if len(faces) == 0:\n",
    "    print(\"Nenhum rosto detectado.\")\n",
    "else:\n",
    "    # Criar uma imagem preta do mesmo tamanho da original\n",
    "    black_image = np.zeros((image.shape[0], image.shape[1], 3), dtype=np.uint8)\n",
    "\n",
    "    # Para cada rosto detectado, calcular os landmarks\n",
    "    for face in faces:\n",
    "        landmarks = predictor(gray, face)\n",
    "        # Desenhar cada ponto\n",
    "        for n in range(0, 68):\n",
    "            x = landmarks.part(n).x\n",
    "            y = landmarks.part(n).y\n",
    "            cv2.circle(black_image, (x, y), 2, (255, 255, 255), -1)\n",
    "\n",
    "    # Mostrar a imagem com os pontos em fundo preto\n",
    "    try:\n",
    "        cv2.imshow(\"Landmarks\", black_image)\n",
    "        cv2.waitKey(0)\n",
    "        cv2.destroyAllWindows()\n",
    "    except Exception as e:\n",
    "        print(\"Erro ao tentar exibir a imagem: \", e)\n",
    "        cv2.imwrite(\"output_landmarks_black.jpg\", black_image)\n",
    "        print(\"Imagem salva como 'output_landmarks_black.jpg'\")"
   ]
  }
 ],
 "metadata": {
  "kernelspec": {
   "display_name": "Python 3",
   "language": "python",
   "name": "python3"
  },
  "language_info": {
   "codemirror_mode": {
    "name": "ipython",
    "version": 3
   },
   "file_extension": ".py",
   "mimetype": "text/x-python",
   "name": "python",
   "nbconvert_exporter": "python",
   "pygments_lexer": "ipython3",
   "version": "3.10.0"
  }
 },
 "nbformat": 4,
 "nbformat_minor": 2
}
